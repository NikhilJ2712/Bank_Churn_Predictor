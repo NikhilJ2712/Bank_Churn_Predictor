{
 "cells": [
  {
   "cell_type": "markdown",
   "metadata": {},
   "source": [
    "# Exploratory Data Analysis (EDA) for Bank Churn Prediction"
   ]
  },
  {
   "cell_type": "markdown",
   "metadata": {},
   "source": [
    "## 1. Load the dataset"
   ]
  },
  {
   "cell_type": "code",
   "execution_count": null,
   "metadata": {},
   "outputs": [],
   "source": [
    "import pandas as pd\n",
    "import numpy as np\n",
    "import matplotlib.pyplot as plt\n",
    "import seaborn as sns\n",
    "\n",
    "# Load the dataset\n",
    "df = pd.read_csv('BankChurners.csv')\n",
    "\n",
    "# Display the first few rows of the dataframe\n",
    "df.head()"
   ]
  },
  {
   "cell_type": "markdown",
   "metadata": {},
   "source": [
    "## 2. Initial Data Inspection"
   ]
  },
  {
   "cell_type": "code",
   "execution_count": null,
   "metadata": {},
   "outputs": [],
   "source": [
    "# Get the shape of the dataframe\n",
    "print(f\"Shape of the dataset: {df.shape}\")"
   ]
  },
  {
   "cell_type": "code",
   "execution_count": null,
   "metadata": {},
   "outputs": [],
   "source": [
    "# Get information about the columns, data types, and non-null values\n",
    "df.info()"
   ]
  },
  {
   "cell_type": "code",
   "execution_count": null,
   "metadata": {},
   "outputs": [],
   "source": [
    "# Get summary statistics for numerical columns\n",
    "df.describe()"
   ]
  },
  {
   "cell_type": "code",
   "execution_count": null,
   "metadata": {},
   "outputs": [],
   "source": [
    "# Check for missing values\n",
    "df.isnull().sum()"
   ]
  },
  {
   "cell_type": "markdown",
   "metadata": {},
   "source": [
    "The dataset I downloaded has columns: `RowNumber`, `CustomerId`, `Surname`, `CreditScore`, `Geography`, `Gender`, `Age`, `Tenure`, `Balance`, `NumOfProducts`, `HasCrCard`, `IsActiveMember`, `EstimatedSalary`, `Exited`. The target variable is `Exited`. `RowNumber`, `CustomerId`, and `Surname` are not useful for prediction and will be dropped."
   ]
  },
  {
   "cell_type": "code",
   "execution_count": null,
   "metadata": {},
   "outputs": [],
   "source": [
    "df_cleaned = df.drop(['RowNumber', 'CustomerId', 'Surname'], axis=1)\n",
    "df_cleaned.head()"
   ]
  },
  {
   "cell_type": "markdown",
   "metadata": {},
   "source": [
    "## 3. Target Variable Analysis"
   ]
  },
  {
   "cell_type": "code",
   "execution_count": null,
   "metadata": {},
   "outputs": [],
   "source": [
    "# Analyze the distribution of the target variable 'Exited'\n",
    "sns.set_theme(style=\"darkgrid\")\n",
    "ax = sns.countplot(x='Exited', data=df_cleaned)\n",
    "ax.set_title('Distribution of Target Variable (Exited)')\n",
    "plt.show()\n",
    "\n",
    "print(df_cleaned['Exited'].value_counts(normalize=True))"
   ]
  },
  {
   "cell_type": "markdown",
   "metadata": {},
   "source": [
    "The target variable is imbalanced. About 20% of customers have churned."
   ]
  },
  {
   "cell_type": "markdown",
   "metadata": {},
   "source": [
    "## 4. Numerical Feature Analysis"
   ]
  },
  {
   "cell_type": "code",
   "execution_count": null,
   "metadata": {},
   "outputs": [],
   "source": [
    "# Select numerical features\n",
    "numerical_features = df_cleaned.select_dtypes(include=np.number).columns.tolist()\n",
    "numerical_features.remove('Exited') # remove target variable\n",
    "print(f\"Numerical features: {numerical_features}\")\n",
    "\n",
    "# Plot histograms for numerical features\n",
    "df_cleaned[numerical_features].hist(bins=30, figsize=(15, 10))\n",
    "plt.suptitle('Histograms of Numerical Features')\n",
    "plt.show()"
   ]
  },
  {
   "cell_type": "code",
   "execution_count": null,
   "metadata": {},
   "outputs": [],
   "source": [
    "# Plot boxplots for numerical features vs. target\n",
    "plt.figure(figsize=(15, 10))\n",
    "for i, col in enumerate(numerical_features):\n",
    "    plt.subplot(3, 3, i + 1)\n",
    "    sns.boxplot(x='Exited', y=col, data=df_cleaned)\n",
    "plt.tight_layout()\n",
    "plt.show()"
   ]
  },
  {
   "cell_type": "markdown",
   "metadata": {},
   "source": [
    "## 5. Categorical Feature Analysis"
   ]
  },
  {
   "cell_type": "code",
   "execution_count": null,
   "metadata": {},
   "outputs": [],
   "source": [
    "# Select categorical features\n",
    "categorical_features = df_cleaned.select_dtypes(include='object').columns.tolist()\n",
    "print(f\"Categorical features: {categorical_features}\")\n",
    "\n",
    "# Plot barplots for categorical features vs. target\n",
    "plt.figure(figsize=(10, 5))\n",
    "for i, col in enumerate(categorical_features):\n",
    "    plt.subplot(1, 2, i + 1)\n",
    "    sns.countplot(x=col, hue='Exited', data=df_cleaned)\n",
    "plt.tight_layout()\n",
    "plt.show()"
   ]
  },
  {
   "cell_type": "markdown",
   "metadata": {},
   "source": [
    "## 6. Correlation Analysis"
   ]
  },
  {
   "cell_type": "code",
   "execution_count": null,
   "metadata": {},
   "outputs": [],
   "source": [
    "# Calculate the correlation matrix for numerical features\n",
    "corr_matrix = df_cleaned.corr(numeric_only=True)\n",
    "\n",
    "# Plot the heatmap\n",
    "plt.figure(figsize=(12, 10))\n",
    "sns.heatmap(corr_matrix, annot=True, cmap='coolwarm', fmt='.2f')\n",
    "plt.title('Correlation Heatmap')\n",
    "plt.show()"
   ]
  },
  {
   "cell_type": "markdown",
   "metadata": {},
   "source": [
    "## 7. Business Insights\n",
    "- **Age and Churn**: Older customers seem more likely to churn.\n",
    "- **Balance and Churn**: Customers with a higher balance are more likely to churn. Customers with a zero balance have a lower churn rate.\n",
    "- **Geography and Churn**: Customers from Germany have a significantly higher churn rate.\n",
    "- **Gender and Churn**: Female customers have a slightly higher churn rate.\n",
    "- **Number of Products**: Customers with 3 or 4 products have a very high churn rate, suggesting these might be less popular or problematic products.\n",
    "- **Active Members**: As expected, non-active members are much more likely to churn."
   ]
  }
 ],
 "metadata": {
  "kernelspec": {
   "display_name": "Python 3",
   "language": "python",
   "name": "python3"
  },
  "language_info": {
   "codemirror_mode": {
    "name": "ipython",
    "version": 3
   },
   "file_extension": ".py",
   "mimetype": "text/x-python",
   "name": "python",
   "nbconvert_exporter": "python",
   "pygments_lexer": "ipython3",
   "version": "3.11.5"
  }
 },
 "nbformat": 4,
 "nbformat_minor": 4
}
