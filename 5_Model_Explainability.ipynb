{
 "cells": [
  {
   "cell_type": "markdown",
   "metadata": {},
   "source": [
    "# Model Explainability and Interpretation"
   ]
  },
  {
   "cell_type": "markdown",
   "metadata": {},
   "source": [
    "In this notebook, we will interpret the best-performing model (Tuned Random Forest) to understand the key drivers of customer churn. We will:\n",
    "1. Load the best model and the preprocessed data.\n",
    "2. Use SHAP (SHapley Additive exPlanations) to explain the model's predictions.\n",
    "3. Visualize feature importances.\n",
    "4. Interpret the findings to provide actionable business insights."
   ]
  },
  {
   "cell_type": "code",
   "execution_count": null,
   "metadata": {},
   "outputs": [],
   "source": [
    "import numpy as np\n",
    "import pandas as pd\n",
    "import joblib\n",
    "import shap\n",
    "import matplotlib.pyplot as plt\n",
    "\n",
    "# Suppress a warning from SHAP\n",
    "import warnings\n",
    "warnings.filterwarnings('ignore', category=UserWarning, message='Starting from version 2.2.1, the library file in distribution packages is named differently...')"
   ]
  },
  {
   "cell_type": "markdown",
   "metadata": {},
   "source": [
    "## 1. Load Model, Data, and Preprocessor"
   ]
  },
  {
   "cell_type": "code",
   "execution_count": null,
   "metadata": {},
   "outputs": [],
   "source": [
    "# Load the best model\n",
    "best_rf = joblib.load('best_random_forest_model.joblib')\n",
    "\n",
    "# Load the preprocessor to get feature names\n",
    "preprocessor = joblib.load('preprocessor.joblib')\n",
    "\n",
    "# Load the processed test data\n",
    "X_test_processed = np.load('X_test_processed.npy', allow_pickle=True)\n",
    "y_test = np.load('y_test.npy', allow_pickle=True)"
   ]
  },
  {
   "cell_type": "markdown",
   "metadata": {},
   "source": [
    "## 2. Get Feature Names from Preprocessor"
   ]
  },
  {
   "cell_type": "code",
   "execution_count": null,
   "metadata": {},
   "outputs": [],
   "source": [
    "# Extract feature names from the preprocessor\n",
    "try:\n",
    "    cat_feature_names = preprocessor.named_transformers_['cat'].get_feature_names_out()\n",
    "except AttributeError:\n",
    "    # Fallback for older scikit-learn versions\n",
    "    cat_feature_names = preprocessor.named_transformers_['cat'].get_feature_names()\n",
    "    \n",
    "num_feature_names = preprocessor.named_transformers_['num'].feature_names_in_\n",
    "feature_names = np.concatenate([num_feature_names, cat_feature_names])\n",
    "\n",
    "# Create a DataFrame with proper feature names for easier interpretation\n",
    "X_test_df = pd.DataFrame(X_test_processed, columns=feature_names)"
   ]
  },
  {
   "cell_type": "markdown",
   "metadata": {},
   "source": [
    "## 3. SHAP Feature Importance"
   ]
  },
  {
   "cell_type": "code",
   "execution_count": null,
   "metadata": {},
   "outputs": [],
   "source": [
    "# Create a SHAP explainer object for tree-based models\n",
    "explainer = shap.TreeExplainer(best_rf)\n",
    "\n",
    "# Calculate SHAP values for the test set\n",
    "# We use check_additivity=False for this version of XGBoost/SHAP to avoid potential issues\n",
    "shap_values = explainer.shap_values(X_test_df, check_additivity=False)\n",
    "\n",
    "# The output is a list of two arrays (one for each class). We are interested in the SHAP values for the 'churn' class (class 1).\n",
    "print('Generating SHAP bar plot...')\n",
    "shap.summary_plot(shap_values[1], X_test_df, plot_type=\"bar\", show=False)\n",
    "plt.title('SHAP Feature Importance (Bar)')\n",
    "plt.show()"
   ]
  },
  {
   "cell_type": "code",
   "execution_count": null,
   "metadata": {},
   "outputs": [],
   "source": [
    "# SHAP summary plot to see the impact of each feature\n",
    "print('Generating SHAP summary plot...')\n",
    "shap.summary_plot(shap_values[1], X_test_df, show=False)\n",
    "plt.show()"
   ]
  },
  {
   "cell_type": "markdown",
   "metadata": {},
   "source": [
    "## 4. Interpretation and Business Insights"
   ]
  },
  {
   "cell_type": "markdown",
   "metadata": {},
   "source": [
    "The SHAP plots provide deep insights into what drives customer churn according to our model.\n\n",
    "### Key Drivers of Churn:\n",
    "1.  **Age**: This is consistently the most important feature. The summary plot shows that higher ages (red dots on the right) have a high positive SHAP value, meaning they strongly push the prediction towards churn. Younger customers (blue dots) have negative SHAP values, indicating they are less likely to churn.\n\n",
    "2.  **NumOfProducts**: The number of products a customer has is another critical factor. The plot reveals that having a low number of products (e.g., 1) is associated with a lower churn risk. However, having more products (3 or 4) dramatically increases the likelihood of churn. This suggests that customers with many products might be dissatisfied or that these product bundles are not meeting their needs.\n\n",
    "3.  **Balance**: A higher account balance is also a strong indicator of churn. This might be counter-intuitive, but it could mean that customers with significant funds are more likely to move their money to another bank for better investment opportunities or services.\n\n",
    "4.  **IsActiveMember**: As expected, non-active members (`IsActiveMember=0`) have a high positive SHAP value, indicating they are at high risk of churning. Active members (`IsActiveMember=1`) are more likely to stay.\n\n",
    "5.  **Geography_Germany**: Being a customer in Germany significantly increases the churn prediction. This suggests there may be market-specific issues in Germany, such as stronger competition or dissatisfaction with the services provided there.\n\n",
    "### Actionable Business Insights:\n",
    "*   **Target Older, High-Balance Customers**: The bank should focus retention efforts on older customers, especially those with high account balances. This could involve offering them premium services, better investment advice, or loyalty rewards.\n\n",
    "*   **Review Product Bundles**: The fact that having more products increases churn risk is a red flag. The bank should analyze the performance and customer satisfaction of its product bundles, especially for customers holding 3 or more products. There may be an opportunity to simplify offerings or improve the value proposition.\n\n",
    "*   **Engage Inactive Members**: Proactive campaigns should be launched to re-engage inactive members. This could include personalized offers, new feature announcements, or check-in calls to understand their needs.\n\n",
    "*   **Investigate the German Market**: The high churn rate in Germany warrants a specific investigation. The bank should analyze its competitive landscape, service quality, and customer feedback in that region to identify and address the root causes."
   ]
  }
 ],
 "metadata": {
  "kernelspec": {
   "display_name": "Python 3",
   "language": "python",
   "name": "python3"
  },
  "language_info": {
   "codemirror_mode": {
    "name": "ipython",
    "version": 3
   },
   "file_extension": ".py",
   "mimetype": "text/x-python",
   "name": "python",
   "nbconvert_exporter": "python",
   "pygments_lexer": "ipython3",
   "version": "3.11.5"
  }
 },
 "nbformat": 4,
 "nbformat_minor": 4
}
